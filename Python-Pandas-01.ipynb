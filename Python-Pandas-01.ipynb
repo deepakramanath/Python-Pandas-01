{
 "cells": [
  {
   "cell_type": "markdown",
   "metadata": {},
   "source": [
    "# Python Pandas 01"
   ]
  },
  {
   "cell_type": "markdown",
   "metadata": {},
   "source": [
    "This Python program show the basic functionality of Pandas, which is a Python Data Analysis Library. Here, we use Pandas to construct a one dimensional Series and see some of the features that can be obtained. The data was generated within the Python code that represents maximum temperature every day for about a week.  "
   ]
  },
  {
   "cell_type": "code",
   "execution_count": 87,
   "metadata": {
    "collapsed": true
   },
   "outputs": [],
   "source": [
    "import os\n",
    "import sys\n",
    "import pandas as pd\n",
    "import numpy as np\n",
    "import random\n",
    "import collections\n",
    "import matplotlib.pyplot as plt\n",
    "%matplotlib inline"
   ]
  },
  {
   "cell_type": "markdown",
   "metadata": {},
   "source": [
    "The above shows the Python modules that have been imported. Other than the regular ones, we import `random`, which is a pseudo-random generator and `collections`, which is a specialised data type providing alternative to Python's built-in containers such as `list`, `dict`, etc."
   ]
  },
  {
   "cell_type": "code",
   "execution_count": 88,
   "metadata": {
    "collapsed": true
   },
   "outputs": [],
   "source": [
    "# Function\n",
    "def tempFunction(ld):\n",
    "\ti = 0\n",
    "\twhile i < ld:\n",
    "\t\ti = i + 1\n",
    "\t\ttemp = random.randrange(20, 40, 2)\n",
    "\t\ttempDays.append(temp)\n",
    "\treturn temp"
   ]
  },
  {
   "cell_type": "markdown",
   "metadata": {},
   "source": [
    "This is the function, which generates the pseudo-random numbers between 20 to 40, which in our case represent the maximum temperature for a particular day. The number generated are with respect to the total number of days present."
   ]
  },
  {
   "cell_type": "code",
   "execution_count": 89,
   "metadata": {
    "collapsed": true
   },
   "outputs": [],
   "source": [
    "# Some essential lists\n",
    "tempDays = []\n",
    "days = ['Mon', 'Tue', 'Wed', 'Thu', 'Fri', 'Sat', 'Sun']\n",
    "lenDays =  len(days)"
   ]
  },
  {
   "cell_type": "markdown",
   "metadata": {},
   "source": [
    "Here, we generate a empty an empty `list` to store the temperature values and `days` having seven days of the week. "
   ]
  },
  {
   "cell_type": "code",
   "execution_count": 90,
   "metadata": {
    "collapsed": false
   },
   "outputs": [
    {
     "data": {
      "text/plain": [
       "26"
      ]
     },
     "execution_count": 90,
     "metadata": {},
     "output_type": "execute_result"
    }
   ],
   "source": [
    "# Calling the temperature function to generate random temperatures\n",
    "tempFunction(lenDays)"
   ]
  },
  {
   "cell_type": "code",
   "execution_count": 91,
   "metadata": {
    "collapsed": false
   },
   "outputs": [
    {
     "name": "stdout",
     "output_type": "stream",
     "text": [
      "OrderedDict([('Mon', 26), ('Tue', 20), ('Wed', 34), ('Thu', 30), ('Fri', 26), ('Sat', 34), ('Sun', 26)])\n"
     ]
    }
   ],
   "source": [
    "# Creating a ordered dictionary\n",
    "tempData = collections.OrderedDict(zip(days, tempDays))\n",
    "print tempData"
   ]
  },
  {
   "cell_type": "markdown",
   "metadata": {},
   "source": [
    "Note that we create a ordered dictionary using `collections.OrderedDict`. Using the Python's in-built `dict` would generate a non-orderely dictionary"
   ]
  },
  {
   "cell_type": "code",
   "execution_count": 92,
   "metadata": {
    "collapsed": false,
    "scrolled": true
   },
   "outputs": [
    {
     "name": "stdout",
     "output_type": "stream",
     "text": [
      "<class 'pandas.core.series.Series'>\n",
      "<type 'numpy.ndarray'>\n"
     ]
    },
    {
     "data": {
      "text/plain": [
       "Mon    26\n",
       "Tue    20\n",
       "Wed    34\n",
       "Thu    30\n",
       "Fri    26\n",
       "Sat    34\n",
       "Sun    26\n",
       "dtype: int64"
      ]
     },
     "execution_count": 92,
     "metadata": {},
     "output_type": "execute_result"
    }
   ],
   "source": [
    "# Creating a Pandas Series\n",
    "data = pd.Series(tempData)\n",
    "print type(data)\n",
    "print type(data.values)\n",
    "data"
   ]
  },
  {
   "cell_type": "markdown",
   "metadata": {},
   "source": [
    "The above shows the generation of `Pandas Series`, where the type of data shown as `Pandas core` and the values are nothing but `numpy` `nd array`."
   ]
  },
  {
   "cell_type": "code",
   "execution_count": 93,
   "metadata": {
    "collapsed": false
   },
   "outputs": [
    {
     "name": "stdout",
     "output_type": "stream",
     "text": [
      "Weekday\n",
      "Mon        26\n",
      "Tue        20\n",
      "Wed        34\n",
      "Thu        30\n",
      "Fri        26\n",
      "Sat        34\n",
      "Sun        26\n",
      "Name: Temperature, dtype: int64\n"
     ]
    }
   ],
   "source": [
    "# Specifying the names to the Pandas Series\n",
    "data.name = 'Temperature'\n",
    "data.index.name = 'Weekday'\n",
    "print data"
   ]
  },
  {
   "cell_type": "markdown",
   "metadata": {},
   "source": [
    "This allows us to define a name for `Pandas Series`, including the indices. "
   ]
  },
  {
   "cell_type": "code",
   "execution_count": 94,
   "metadata": {
    "collapsed": false
   },
   "outputs": [
    {
     "name": "stdout",
     "output_type": "stream",
     "text": [
      "Maximum weekly temperature: 34\n",
      "Minumim weekly temperature: 20\n",
      "Weekly mean temperature: 26.0\n"
     ]
    }
   ],
   "source": [
    "# Calculating some statistics of temperature\n",
    "print \"Maximum weekly temperature:\", data.max()\n",
    "print \"Minumim weekly temperature:\", data.min()\n",
    "print \"Weekly mean temperature:\", data.median()"
   ]
  },
  {
   "cell_type": "markdown",
   "metadata": {},
   "source": [
    "This shows some of the basic data analysis that can be obtained using Pandas. We have identified the maximum, minimum and mean temperatures from our data."
   ]
  },
  {
   "cell_type": "code",
   "execution_count": 95,
   "metadata": {
    "collapsed": false
   },
   "outputs": [
    {
     "data": {
      "image/png": "[encoded data removed]",
      "text/plain": [
       "<matplotlib.figure.Figure at 0xafcc692c>"
      ]
     },
     "metadata": {},
     "output_type": "display_data"
    }
   ],
   "source": [
    "plt.plot(data, marker='o', linestyle='-', color='r')\n",
    "plt.xlabel('Days [Index]')\n",
    "plt.ylabel('Temperature [C]')\n",
    "plt.title('Temperature variation over a period of one week')\n",
    "plt.show()"
   ]
  },
  {
   "cell_type": "markdown",
   "metadata": {},
   "source": [
    "We finally plot the data which indicates the temperature variation. The interesting aspect aboout this program is that you get different values each time this is executed since we use a pseudo random number generator. "
   ]
  }
 ],
 "metadata": {
  "kernelspec": {
   "display_name": "Python 2",
   "language": "python",
   "name": "python2"
  },
  "language_info": {
   "codemirror_mode": {
    "name": "ipython",
    "version": 2
   },
   "file_extension": ".py",
   "mimetype": "text/x-python",
   "name": "python",
   "nbconvert_exporter": "python",
   "pygments_lexer": "ipython2",
   "version": "2.7.6"
  }
 },
 "nbformat": 4,
 "nbformat_minor": 0
}
